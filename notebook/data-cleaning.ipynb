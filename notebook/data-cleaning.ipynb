{
 "cells": [
  {
   "cell_type": "markdown",
   "id": "01436735-0720-46c5-877a-ebc7fb3c8494",
   "metadata": {},
   "source": [
    "# Data Cleaning"
   ]
  },
  {
   "cell_type": "code",
   "execution_count": null,
   "id": "01c4ee54-03b8-421c-809e-2c9f456908ba",
   "metadata": {
    "tags": []
   },
   "outputs": [],
   "source": [
    "# For jupyterlab-docker\n",
    "!pip install openpyxl seaborn scikit-learn -q"
   ]
  },
  {
   "cell_type": "code",
   "execution_count": 1,
   "id": "ce41bcfe-94d5-4700-a7cc-ecc308a0c93e",
   "metadata": {
    "tags": []
   },
   "outputs": [],
   "source": [
    "# Import library\n",
    "import pandas as pd"
   ]
  },
  {
   "cell_type": "code",
   "execution_count": 2,
   "id": "f7a89170-6e63-42aa-bdc8-1c1b3954fd87",
   "metadata": {
    "tags": []
   },
   "outputs": [],
   "source": [
    "# Read the excel file\n",
    "data = pd.read_excel(\"data/ptestost.xlsx\")\n",
    "\n",
    "# Convert the data file: Excel to csv\n",
    "data.to_csv(\"data/data.csv\", index=False)\n",
    "\n",
    "# Read csv file\n",
    "data = pd.read_csv(\"data/data.csv\")"
   ]
  },
  {
   "cell_type": "code",
   "execution_count": 3,
   "id": "23f80526-c98a-41d4-883f-88905821cfe9",
   "metadata": {
    "tags": []
   },
   "outputs": [
    {
     "name": "stdout",
     "output_type": "stream",
     "text": [
      "<class 'pandas.core.frame.DataFrame'>\n",
      "RangeIndex: 3397 entries, 0 to 3396\n",
      "Data columns (total 7 columns):\n",
      " #   Column  Non-Null Count  Dtype  \n",
      "---  ------  --------------  -----  \n",
      " 0   Age     3397 non-null   int64  \n",
      " 1   DM      3397 non-null   int64  \n",
      " 2   TG      3397 non-null   int64  \n",
      " 3   HT      3397 non-null   int64  \n",
      " 4   HDL     3397 non-null   float64\n",
      " 5   AC      3397 non-null   float64\n",
      " 6   T       3397 non-null   int64  \n",
      "dtypes: float64(2), int64(5)\n",
      "memory usage: 185.9 KB\n"
     ]
    }
   ],
   "source": [
    "# Print the data info\n",
    "data.info()"
   ]
  },
  {
   "cell_type": "code",
   "execution_count": 4,
   "id": "b78ad8cb-097f-4bdf-a0cd-f1c4eb6027d2",
   "metadata": {
    "tags": []
   },
   "outputs": [],
   "source": [
    "# Check for missing value\n",
    "# It seems like there's no missing value.\n",
    "\n",
    "# Check for wrong data types\n",
    "# It seems like there's no wrong data types."
   ]
  },
  {
   "cell_type": "code",
   "execution_count": 5,
   "id": "8468d0af-fcb1-4ecb-9db8-b46fa006cfc1",
   "metadata": {
    "tags": []
   },
   "outputs": [
    {
     "data": {
      "text/html": [
       "<div>\n",
       "<style scoped>\n",
       "    .dataframe tbody tr th:only-of-type {\n",
       "        vertical-align: middle;\n",
       "    }\n",
       "\n",
       "    .dataframe tbody tr th {\n",
       "        vertical-align: top;\n",
       "    }\n",
       "\n",
       "    .dataframe thead th {\n",
       "        text-align: right;\n",
       "    }\n",
       "</style>\n",
       "<table border=\"1\" class=\"dataframe\">\n",
       "  <thead>\n",
       "    <tr style=\"text-align: right;\">\n",
       "      <th></th>\n",
       "      <th>Age</th>\n",
       "      <th>DM</th>\n",
       "      <th>TG</th>\n",
       "      <th>HT</th>\n",
       "      <th>HDL</th>\n",
       "      <th>AC</th>\n",
       "      <th>T</th>\n",
       "    </tr>\n",
       "  </thead>\n",
       "  <tbody>\n",
       "    <tr>\n",
       "      <th>count</th>\n",
       "      <td>3397.000000</td>\n",
       "      <td>3397.000000</td>\n",
       "      <td>3397.000000</td>\n",
       "      <td>3397.000000</td>\n",
       "      <td>3397.000000</td>\n",
       "      <td>3397.000000</td>\n",
       "      <td>3397.000000</td>\n",
       "    </tr>\n",
       "    <tr>\n",
       "      <th>mean</th>\n",
       "      <td>61.327348</td>\n",
       "      <td>0.388578</td>\n",
       "      <td>155.269650</td>\n",
       "      <td>0.511922</td>\n",
       "      <td>46.325493</td>\n",
       "      <td>98.916515</td>\n",
       "      <td>0.193112</td>\n",
       "    </tr>\n",
       "    <tr>\n",
       "      <th>std</th>\n",
       "      <td>10.072821</td>\n",
       "      <td>0.487499</td>\n",
       "      <td>88.840249</td>\n",
       "      <td>0.499931</td>\n",
       "      <td>10.960146</td>\n",
       "      <td>10.629471</td>\n",
       "      <td>0.394798</td>\n",
       "    </tr>\n",
       "    <tr>\n",
       "      <th>min</th>\n",
       "      <td>45.000000</td>\n",
       "      <td>0.000000</td>\n",
       "      <td>12.000000</td>\n",
       "      <td>0.000000</td>\n",
       "      <td>13.000000</td>\n",
       "      <td>43.000000</td>\n",
       "      <td>0.000000</td>\n",
       "    </tr>\n",
       "    <tr>\n",
       "      <th>25%</th>\n",
       "      <td>53.000000</td>\n",
       "      <td>0.000000</td>\n",
       "      <td>97.000000</td>\n",
       "      <td>0.000000</td>\n",
       "      <td>39.000000</td>\n",
       "      <td>92.000000</td>\n",
       "      <td>0.000000</td>\n",
       "    </tr>\n",
       "    <tr>\n",
       "      <th>50%</th>\n",
       "      <td>60.000000</td>\n",
       "      <td>0.000000</td>\n",
       "      <td>136.000000</td>\n",
       "      <td>1.000000</td>\n",
       "      <td>45.000000</td>\n",
       "      <td>98.000000</td>\n",
       "      <td>0.000000</td>\n",
       "    </tr>\n",
       "    <tr>\n",
       "      <th>75%</th>\n",
       "      <td>69.000000</td>\n",
       "      <td>1.000000</td>\n",
       "      <td>183.000000</td>\n",
       "      <td>1.000000</td>\n",
       "      <td>52.000000</td>\n",
       "      <td>105.000000</td>\n",
       "      <td>0.000000</td>\n",
       "    </tr>\n",
       "    <tr>\n",
       "      <th>max</th>\n",
       "      <td>85.000000</td>\n",
       "      <td>1.000000</td>\n",
       "      <td>980.000000</td>\n",
       "      <td>1.000000</td>\n",
       "      <td>116.000000</td>\n",
       "      <td>198.000000</td>\n",
       "      <td>1.000000</td>\n",
       "    </tr>\n",
       "  </tbody>\n",
       "</table>\n",
       "</div>"
      ],
      "text/plain": [
       "               Age           DM           TG           HT          HDL  \\\n",
       "count  3397.000000  3397.000000  3397.000000  3397.000000  3397.000000   \n",
       "mean     61.327348     0.388578   155.269650     0.511922    46.325493   \n",
       "std      10.072821     0.487499    88.840249     0.499931    10.960146   \n",
       "min      45.000000     0.000000    12.000000     0.000000    13.000000   \n",
       "25%      53.000000     0.000000    97.000000     0.000000    39.000000   \n",
       "50%      60.000000     0.000000   136.000000     1.000000    45.000000   \n",
       "75%      69.000000     1.000000   183.000000     1.000000    52.000000   \n",
       "max      85.000000     1.000000   980.000000     1.000000   116.000000   \n",
       "\n",
       "                AC            T  \n",
       "count  3397.000000  3397.000000  \n",
       "mean     98.916515     0.193112  \n",
       "std      10.629471     0.394798  \n",
       "min      43.000000     0.000000  \n",
       "25%      92.000000     0.000000  \n",
       "50%      98.000000     0.000000  \n",
       "75%     105.000000     0.000000  \n",
       "max     198.000000     1.000000  "
      ]
     },
     "execution_count": 5,
     "metadata": {},
     "output_type": "execute_result"
    }
   ],
   "source": [
    "# Descriptive Statistics\n",
    "data.describe()"
   ]
  },
  {
   "cell_type": "code",
   "execution_count": null,
   "id": "f3ab3817-0a57-4dc9-9dd1-b4601e9abea6",
   "metadata": {},
   "outputs": [],
   "source": []
  }
 ],
 "metadata": {
  "kernelspec": {
   "display_name": "Python 3 (ipykernel)",
   "language": "python",
   "name": "python3"
  },
  "language_info": {
   "codemirror_mode": {
    "name": "ipython",
    "version": 3
   },
   "file_extension": ".py",
   "mimetype": "text/x-python",
   "name": "python",
   "nbconvert_exporter": "python",
   "pygments_lexer": "ipython3",
   "version": "3.11.3"
  }
 },
 "nbformat": 4,
 "nbformat_minor": 5
}
