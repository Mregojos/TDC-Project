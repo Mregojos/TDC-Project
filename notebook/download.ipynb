{
 "cells": [
  {
   "cell_type": "markdown",
   "id": "d5dd18e9-8dd4-42f4-b31c-3010ce9c9528",
   "metadata": {},
   "source": [
    "# Download the data"
   ]
  },
  {
   "cell_type": "code",
   "execution_count": null,
   "id": "3d995a95-949a-4dc4-b40c-35abab6d15bf",
   "metadata": {
    "tags": []
   },
   "outputs": [],
   "source": [
    "# For jupyterlab-docker\n",
    "!apt update\n",
    "!apt install wget -y"
   ]
  },
  {
   "cell_type": "code",
   "execution_count": null,
   "id": "88d05900-64ed-420b-86ca-dab66dbbdea6",
   "metadata": {
    "tags": []
   },
   "outputs": [],
   "source": [
    "!wget https://github.com/osmarluiz/testosterone-deficiency-dataset/blob/main/ptestost.xlsx?raw=true"
   ]
  }
 ],
 "metadata": {
  "kernelspec": {
   "display_name": "Python 3 (ipykernel)",
   "language": "python",
   "name": "python3"
  },
  "language_info": {
   "codemirror_mode": {
    "name": "ipython",
    "version": 3
   },
   "file_extension": ".py",
   "mimetype": "text/x-python",
   "name": "python",
   "nbconvert_exporter": "python",
   "pygments_lexer": "ipython3",
   "version": "3.11.3"
  }
 },
 "nbformat": 4,
 "nbformat_minor": 5
}
