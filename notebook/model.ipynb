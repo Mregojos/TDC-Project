{
 "cells": [
  {
   "cell_type": "markdown",
   "id": "97646646-b21d-4baf-93ba-b4f4221fced3",
   "metadata": {},
   "source": [
    "# Modeling"
   ]
  },
  {
   "cell_type": "code",
   "execution_count": 1,
   "id": "62ccec22-ac85-4c23-b52e-9abba639deae",
   "metadata": {
    "tags": []
   },
   "outputs": [],
   "source": [
    "# Import libraries\n",
    "import pandas as pd\n",
    "import seaborn as sns\n",
    "import matplotlib.pyplot as plt\n",
    "import numpy as np\n",
    "\n",
    "from sklearn.model_selection import train_test_split\n",
    "from sklearn.preprocessing import StandardScaler"
   ]
  },
  {
   "cell_type": "code",
   "execution_count": 2,
   "id": "b2de61a7-0b03-4289-b698-ba1f8fc1499d",
   "metadata": {
    "tags": []
   },
   "outputs": [],
   "source": [
    "# Read csv file\n",
    "data = pd.read_csv(\"data/data.csv\")"
   ]
  },
  {
   "cell_type": "code",
   "execution_count": 3,
   "id": "0afb8255-6dde-4233-a176-7875216abe39",
   "metadata": {
    "tags": []
   },
   "outputs": [],
   "source": [
    "# Split the data into training and testing sets and apply necessary scaling\n",
    "# Separate fetures and target\n",
    "X = data.drop(\"T\", axis=1)\n",
    "y = data[\"T\"]\n",
    "\n",
    "# Split the data into training and testing sets\n",
    "X_train, X_test, y_train, y_test = train_test_split(X, y, test_size=0.2, random_state=42)\n",
    "\n",
    "# Apply scaling\n",
    "scaler = StandardScaler()\n",
    "X_train_scaled = scaler.fit_transform(X_train)\n",
    "X_test_scaled = scaler.transform(X_test)"
   ]
  },
  {
   "cell_type": "code",
   "execution_count": 7,
   "id": "d6c31e19-8e1f-4b28-b7c2-5faded97b9f4",
   "metadata": {
    "tags": []
   },
   "outputs": [
    {
     "name": "stdout",
     "output_type": "stream",
     "text": [
      "Logistic Regression: \n",
      "   Accuracy: 0.83\n",
      "   Precision: 0.62\n",
      "   Recall: 0.12\n",
      "   F1-score: 0.20\n",
      "   Classification Report:\n",
      "              precision    recall  f1-score   support\n",
      "\n",
      "           0       0.84      0.98      0.90       557\n",
      "           1       0.62      0.12      0.20       123\n",
      "\n",
      "    accuracy                           0.83       680\n",
      "   macro avg       0.73      0.55      0.55       680\n",
      "weighted avg       0.80      0.83      0.78       680\n",
      "\n",
      "   Confusion Matrix:\n",
      "[[548   9]\n",
      " [108  15]]\n",
      "\n",
      "\n",
      "Decision Tree: \n",
      "   Accuracy: 0.73\n",
      "   Precision: 0.28\n",
      "   Recall: 0.33\n",
      "   F1-score: 0.31\n",
      "   Classification Report:\n",
      "              precision    recall  f1-score   support\n",
      "\n",
      "           0       0.85      0.82      0.83       557\n",
      "           1       0.28      0.33      0.31       123\n",
      "\n",
      "    accuracy                           0.73       680\n",
      "   macro avg       0.57      0.57      0.57       680\n",
      "weighted avg       0.75      0.73      0.74       680\n",
      "\n",
      "   Confusion Matrix:\n",
      "[[454 103]\n",
      " [ 82  41]]\n",
      "\n",
      "\n",
      "Random Forest: \n",
      "   Accuracy: 0.81\n",
      "   Precision: 0.47\n",
      "   Recall: 0.17\n",
      "   F1-score: 0.25\n",
      "   Classification Report:\n",
      "              precision    recall  f1-score   support\n",
      "\n",
      "           0       0.84      0.96      0.89       557\n",
      "           1       0.47      0.17      0.25       123\n",
      "\n",
      "    accuracy                           0.81       680\n",
      "   macro avg       0.65      0.56      0.57       680\n",
      "weighted avg       0.77      0.81      0.78       680\n",
      "\n",
      "   Confusion Matrix:\n",
      "[[533  24]\n",
      " [102  21]]\n",
      "\n",
      "\n",
      "Gradient Boosting: \n",
      "   Accuracy: 0.82\n",
      "   Precision: 0.50\n",
      "   Recall: 0.14\n",
      "   F1-score: 0.22\n",
      "   Classification Report:\n",
      "              precision    recall  f1-score   support\n",
      "\n",
      "           0       0.84      0.97      0.90       557\n",
      "           1       0.50      0.14      0.22       123\n",
      "\n",
      "    accuracy                           0.82       680\n",
      "   macro avg       0.67      0.55      0.56       680\n",
      "weighted avg       0.78      0.82      0.77       680\n",
      "\n",
      "   Confusion Matrix:\n",
      "[[540  17]\n",
      " [106  17]]\n",
      "\n",
      "\n"
     ]
    }
   ],
   "source": [
    "# Build, train, and evaluate the model\n",
    "from sklearn.linear_model import LogisticRegression\n",
    "from sklearn.tree import DecisionTreeClassifier\n",
    "from sklearn.ensemble import RandomForestClassifier, GradientBoostingClassifier\n",
    "from sklearn.metrics import accuracy_score, precision_score, recall_score, f1_score, classification_report, confusion_matrix\n",
    "\n",
    "# Create classifiers\n",
    "classifiers = [\n",
    "    (\"Logistic Regression\", LogisticRegression(random_state=42)),\n",
    "    (\"Decision Tree\", DecisionTreeClassifier(random_state=42)),\n",
    "    (\"Random Forest\", RandomForestClassifier(random_state=42)),\n",
    "    (\"Gradient Boosting\", GradientBoostingClassifier(random_state=42))\n",
    "]\n",
    "\n",
    "# Function to train and evaluate a classifier\n",
    "\n",
    "def evaluate_classifier(name, clf, X_train, y_train, X_test, y_test):\n",
    "    clf.fit(X_train, y_train)\n",
    "    y_pred = clf.predict(X_test)\n",
    "    acuracy = accuracy_score(y_test, y_pred)\n",
    "    precision = precision_score(y_test, y_pred)\n",
    "    recall = recall_score(y_test, y_pred)\n",
    "    f1 = f1_score(y_test, y_pred)\n",
    "    print(f\"{name}: \")\n",
    "    print(f\"   Accuracy: {acuracy:.2f}\")\n",
    "    print(f\"   Precision: {precision:.2f}\")\n",
    "    print(f\"   Recall: {recall:.2f}\")\n",
    "    print(f\"   F1-score: {f1:.2f}\")\n",
    "    print(f\"   Classification Report:\")\n",
    "    print(classification_report(y_test, y_pred))\n",
    "    print(f\"   Confusion Matrix:\")\n",
    "    print(confusion_matrix(y_test, y_pred))\n",
    "    print(\"\\n\")\n",
    "\n",
    "# Evaluate classifiers\n",
    "for name, clf in classifiers:\n",
    "    evaluate_classifier(name, clf, X_train, y_train, X_test, y_test)"
   ]
  },
  {
   "cell_type": "code",
   "execution_count": 8,
   "id": "4c27fb93-e05c-4c85-abe7-2a8e2b98b03c",
   "metadata": {
    "tags": []
   },
   "outputs": [
    {
     "data": {
      "text/html": [
       "<style>#sk-container-id-2 {color: black;background-color: white;}#sk-container-id-2 pre{padding: 0;}#sk-container-id-2 div.sk-toggleable {background-color: white;}#sk-container-id-2 label.sk-toggleable__label {cursor: pointer;display: block;width: 100%;margin-bottom: 0;padding: 0.3em;box-sizing: border-box;text-align: center;}#sk-container-id-2 label.sk-toggleable__label-arrow:before {content: \"▸\";float: left;margin-right: 0.25em;color: #696969;}#sk-container-id-2 label.sk-toggleable__label-arrow:hover:before {color: black;}#sk-container-id-2 div.sk-estimator:hover label.sk-toggleable__label-arrow:before {color: black;}#sk-container-id-2 div.sk-toggleable__content {max-height: 0;max-width: 0;overflow: hidden;text-align: left;background-color: #f0f8ff;}#sk-container-id-2 div.sk-toggleable__content pre {margin: 0.2em;color: black;border-radius: 0.25em;background-color: #f0f8ff;}#sk-container-id-2 input.sk-toggleable__control:checked~div.sk-toggleable__content {max-height: 200px;max-width: 100%;overflow: auto;}#sk-container-id-2 input.sk-toggleable__control:checked~label.sk-toggleable__label-arrow:before {content: \"▾\";}#sk-container-id-2 div.sk-estimator input.sk-toggleable__control:checked~label.sk-toggleable__label {background-color: #d4ebff;}#sk-container-id-2 div.sk-label input.sk-toggleable__control:checked~label.sk-toggleable__label {background-color: #d4ebff;}#sk-container-id-2 input.sk-hidden--visually {border: 0;clip: rect(1px 1px 1px 1px);clip: rect(1px, 1px, 1px, 1px);height: 1px;margin: -1px;overflow: hidden;padding: 0;position: absolute;width: 1px;}#sk-container-id-2 div.sk-estimator {font-family: monospace;background-color: #f0f8ff;border: 1px dotted black;border-radius: 0.25em;box-sizing: border-box;margin-bottom: 0.5em;}#sk-container-id-2 div.sk-estimator:hover {background-color: #d4ebff;}#sk-container-id-2 div.sk-parallel-item::after {content: \"\";width: 100%;border-bottom: 1px solid gray;flex-grow: 1;}#sk-container-id-2 div.sk-label:hover label.sk-toggleable__label {background-color: #d4ebff;}#sk-container-id-2 div.sk-serial::before {content: \"\";position: absolute;border-left: 1px solid gray;box-sizing: border-box;top: 0;bottom: 0;left: 50%;z-index: 0;}#sk-container-id-2 div.sk-serial {display: flex;flex-direction: column;align-items: center;background-color: white;padding-right: 0.2em;padding-left: 0.2em;position: relative;}#sk-container-id-2 div.sk-item {position: relative;z-index: 1;}#sk-container-id-2 div.sk-parallel {display: flex;align-items: stretch;justify-content: center;background-color: white;position: relative;}#sk-container-id-2 div.sk-item::before, #sk-container-id-2 div.sk-parallel-item::before {content: \"\";position: absolute;border-left: 1px solid gray;box-sizing: border-box;top: 0;bottom: 0;left: 50%;z-index: -1;}#sk-container-id-2 div.sk-parallel-item {display: flex;flex-direction: column;z-index: 1;position: relative;background-color: white;}#sk-container-id-2 div.sk-parallel-item:first-child::after {align-self: flex-end;width: 50%;}#sk-container-id-2 div.sk-parallel-item:last-child::after {align-self: flex-start;width: 50%;}#sk-container-id-2 div.sk-parallel-item:only-child::after {width: 0;}#sk-container-id-2 div.sk-dashed-wrapped {border: 1px dashed gray;margin: 0 0.4em 0.5em 0.4em;box-sizing: border-box;padding-bottom: 0.4em;background-color: white;}#sk-container-id-2 div.sk-label label {font-family: monospace;font-weight: bold;display: inline-block;line-height: 1.2em;}#sk-container-id-2 div.sk-label-container {text-align: center;}#sk-container-id-2 div.sk-container {/* jupyter's `normalize.less` sets `[hidden] { display: none; }` but bootstrap.min.css set `[hidden] { display: none !important; }` so we also need the `!important` here to be able to override the default hidden behavior on the sphinx rendered scikit-learn.org. See: https://github.com/scikit-learn/scikit-learn/issues/21755 */display: inline-block !important;position: relative;}#sk-container-id-2 div.sk-text-repr-fallback {display: none;}</style><div id=\"sk-container-id-2\" class=\"sk-top-container\"><div class=\"sk-text-repr-fallback\"><pre>GradientBoostingClassifier(random_state=42)</pre><b>In a Jupyter environment, please rerun this cell to show the HTML representation or trust the notebook. <br />On GitHub, the HTML representation is unable to render, please try loading this page with nbviewer.org.</b></div><div class=\"sk-container\" hidden><div class=\"sk-item\"><div class=\"sk-estimator sk-toggleable\"><input class=\"sk-toggleable__control sk-hidden--visually\" id=\"sk-estimator-id-2\" type=\"checkbox\" checked><label for=\"sk-estimator-id-2\" class=\"sk-toggleable__label sk-toggleable__label-arrow\">GradientBoostingClassifier</label><div class=\"sk-toggleable__content\"><pre>GradientBoostingClassifier(random_state=42)</pre></div></div></div></div></div>"
      ],
      "text/plain": [
       "GradientBoostingClassifier(random_state=42)"
      ]
     },
     "execution_count": 8,
     "metadata": {},
     "output_type": "execute_result"
    }
   ],
   "source": [
    "# Train the Logistic Regression model on the entire dataset\n",
    "scaler = StandardScaler()\n",
    "X_scaled = scaler.fit_transform(X)\n",
    "\n",
    "# Best Model\n",
    "logistic_regression_model = LogisticRegression(random_state=42)\n",
    "logistic_regression_model.fit(X_scaled, y)\n",
    "\n",
    "decison_tree_model = DecisionTreeClassifier(random_state=42)\n",
    "decison_tree_model.fit(X_scaled, y)\n",
    "\n",
    "random_forest_model = RandomForestClassifier(random_state=42)\n",
    "random_forest_model.fit(X_scaled, y)\n",
    "\n",
    "gradient_boosting_model = GradientBoostingClassifier(random_state=42)\n",
    "gradient_boosting_model.fit(X_scaled, y)"
   ]
  },
  {
   "cell_type": "code",
   "execution_count": 6,
   "id": "af01ee3f-7867-4a46-a346-e3cd309608fc",
   "metadata": {
    "tags": []
   },
   "outputs": [
    {
     "name": "stdout",
     "output_type": "stream",
     "text": [
      "Prediction [0]\n"
     ]
    }
   ],
   "source": [
    "import joblib\n",
    "\n",
    "# Save the model and the scaler to files\n",
    "joblib.dump(logistic_regression_model, \"model/logistic_regression_model.pkl\")\n",
    "joblib.dump(decison_tree_model, \"model/decison_tree_model.pkl\")\n",
    "joblib.dump(random_forest_model, \"model/random_forest_model.pkl\")\n",
    "joblib.dump(gradient_boosting_model, \"model/gradient_boosting_model.pkl\")\n",
    "joblib.dump(scaler, \"model/scaler.pkl\")\n",
    "\n",
    "# Load the model and the scaler from files\n",
    "loaded_model = joblib.load(\"model/logistic_regression_model.pkl\")\n",
    "loaded_scaler = joblib.load(\"model/scaler.pkl\")\n",
    "\n",
    "# Create a sample test data point\n",
    "sample_data = pd.DataFrame({\n",
    "    \"Age\": [60],\n",
    "    \"DM\": [1],\n",
    "    \"TG\": [145],\n",
    "    \"HT\": [1],\n",
    "    \"HDL\": [50],\n",
    "    \"AC\":[105]\n",
    "})\n",
    "\n",
    "# Scale the sample data using the loaded scaler\n",
    "sample_data_scaled = loaded_scaler.transform(sample_data)\n",
    "\n",
    "# Make a prediction using the loade model\n",
    "prediction = loaded_model.predict(sample_data_scaled)\n",
    "\n",
    "# Print the prediction\n",
    "print(\"Prediction\", prediction)"
   ]
  }
 ],
 "metadata": {
  "kernelspec": {
   "display_name": "Python 3 (ipykernel)",
   "language": "python",
   "name": "python3"
  },
  "language_info": {
   "codemirror_mode": {
    "name": "ipython",
    "version": 3
   },
   "file_extension": ".py",
   "mimetype": "text/x-python",
   "name": "python",
   "nbconvert_exporter": "python",
   "pygments_lexer": "ipython3",
   "version": "3.11.3"
  }
 },
 "nbformat": 4,
 "nbformat_minor": 5
}
